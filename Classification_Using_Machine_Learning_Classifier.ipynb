{
 "cells": [
  {
   "cell_type": "code",
   "execution_count": 25,
   "metadata": {},
   "outputs": [],
   "source": [
    "import pandas as pd\n",
    "import numpy as np\n",
    "from sklearn.feature_extraction.text import TfidfVectorizer\n",
    "from sklearn.preprocessing import MultiLabelBinarizer\n",
    "from sklearn.svm import LinearSVC\n",
    "from sklearn.multiclass import OneVsRestClassifier\n",
    "from sklearn.metrics import f1_score, roc_auc_score, accuracy_score\n",
    "from sklearn.neighbors import KNeighborsClassifier\n",
    "from sklearn.multiclass import OneVsRestClassifier\n",
    "from sklearn.naive_bayes import MultinomialNB\n",
    "from sklearn.linear_model import LogisticRegression\n",
    "from sklearn.ensemble import RandomForestClassifier\n"
   ]
  },
  {
   "cell_type": "code",
   "execution_count": 2,
   "metadata": {},
   "outputs": [],
   "source": [
    "# load the cleaned data\n",
    "\n",
    "clean_reuters_data = pd.read_pickle('clean_reuters_data.pkl')"
   ]
  },
  {
   "cell_type": "code",
   "execution_count": 15,
   "metadata": {},
   "outputs": [],
   "source": [
    "# TF-IDF vectorize news contents and binarize topics for training and testing sample\n",
    "\n",
    "vectorizer = TfidfVectorizer()\n",
    "mlb = MultiLabelBinarizer()\n",
    "\n",
    "train_documents = clean_reuters_data[clean_reuters_data.lewis_split == 'TRAIN']['text'].values\n",
    "test_documents = clean_reuters_data[clean_reuters_data.lewis_split == 'TEST']['text'].values\n",
    "train_labels = clean_reuters_data[clean_reuters_data.lewis_split == 'TRAIN']['topics'].values\n",
    "test_labels = clean_reuters_data[clean_reuters_data.lewis_split == 'TEST']['topics'].values\n",
    "\n",
    "vectorized_train_documents = vectorizer.fit_transform(train_documents)\n",
    "vectorized_test_documents = vectorizer.transform(test_documents)\n",
    "binarized_train_labels = mlb.fit_transform(train_labels)\n",
    "binarized_test_labels = mlb.transform(test_labels)"
   ]
  },
  {
   "cell_type": "code",
   "execution_count": 27,
   "metadata": {},
   "outputs": [],
   "source": []
  },
  {
   "cell_type": "code",
   "execution_count": 28,
   "metadata": {},
   "outputs": [],
   "source": [
    "# SVM classification\n",
    "model = OneVsRestClassifier(LinearSVC()).fit(vectorized_train_documents, binarized_train_labels)\n",
    "\n",
    "y_pred = model.predict(vectorized_test_documents)\n",
    "y_true = binarized_test_labels\n",
    "\n",
    "f1_micro_average = f1_score(y_true=y_true, y_pred=y_pred, average='micro')\n",
    "roc_auc = roc_auc_score(y_true, y_pred, average = 'micro')\n",
    "accuracy = accuracy_score(y_true, y_pred)"
   ]
  },
  {
   "cell_type": "code",
   "execution_count": 38,
   "metadata": {},
   "outputs": [
    {
     "data": {
      "text/plain": [
       "(0.849429535593765, 0.8850380040772946, 0.7919536063791228)"
      ]
     },
     "execution_count": 38,
     "metadata": {},
     "output_type": "execute_result"
    }
   ],
   "source": [
    "f1_micro_average, roc_auc, accuracy"
   ]
  },
  {
   "cell_type": "code",
   "execution_count": null,
   "metadata": {},
   "outputs": [],
   "source": []
  },
  {
   "cell_type": "code",
   "execution_count": 43,
   "metadata": {},
   "outputs": [],
   "source": [
    "# ML-kNN classification\n",
    "\n",
    "model = KNeighborsClassifier().fit(vectorized_train_documents, binarized_train_labels)\n",
    "\n",
    "y_pred = model.predict(vectorized_test_documents)\n",
    "y_true = binarized_test_labels\n",
    "\n",
    "f1_micro_average = f1_score(y_true=y_true, y_pred=y_pred, average='micro')\n",
    "roc_auc = roc_auc_score(y_true, y_pred, average = 'micro')\n",
    "accuracy = accuracy_score(y_true, y_pred)"
   ]
  },
  {
   "cell_type": "code",
   "execution_count": 44,
   "metadata": {},
   "outputs": [
    {
     "data": {
      "text/plain": [
       "(0.7882113183884621, 0.8657793080340668, 0.7375860819137369)"
      ]
     },
     "execution_count": 44,
     "metadata": {},
     "output_type": "execute_result"
    }
   ],
   "source": [
    "f1_micro_average, roc_auc, accuracy"
   ]
  },
  {
   "cell_type": "code",
   "execution_count": null,
   "metadata": {},
   "outputs": [],
   "source": []
  },
  {
   "cell_type": "code",
   "execution_count": 45,
   "metadata": {},
   "outputs": [],
   "source": [
    "# Naive Bayes classification\n",
    "model = OneVsRestClassifier(MultinomialNB()).fit(vectorized_train_documents, binarized_train_labels)\n",
    "\n",
    "y_pred = model.predict(vectorized_test_documents)\n",
    "y_true = binarized_test_labels\n",
    "\n",
    "f1_micro_average = f1_score(y_true=y_true, y_pred=y_pred, average='micro')\n",
    "roc_auc = roc_auc_score(y_true, y_pred, average = 'micro')\n",
    "accuracy = accuracy_score(y_true, y_pred)"
   ]
  },
  {
   "cell_type": "code",
   "execution_count": 46,
   "metadata": {},
   "outputs": [
    {
     "data": {
      "text/plain": [
       "(0.4798404962339389, 0.6578701270242665, 0.39180862631388186)"
      ]
     },
     "execution_count": 46,
     "metadata": {},
     "output_type": "execute_result"
    }
   ],
   "source": [
    "f1_micro_average, roc_auc, accuracy"
   ]
  },
  {
   "cell_type": "code",
   "execution_count": null,
   "metadata": {},
   "outputs": [],
   "source": []
  },
  {
   "cell_type": "code",
   "execution_count": 47,
   "metadata": {},
   "outputs": [],
   "source": [
    "# logistic regression classification\n",
    "\n",
    "model = OneVsRestClassifier(LogisticRegression()).fit(vectorized_train_documents, binarized_train_labels)\n",
    "y_pred = model.predict(vectorized_test_documents)\n",
    "y_true = binarized_test_labels\n",
    "f1_micro_average = f1_score(y_true=y_true, y_pred=y_pred, average='micro')\n",
    "roc_auc = roc_auc_score(y_true, y_pred, average = 'micro')\n",
    "accuracy = accuracy_score(y_true, y_pred)"
   ]
  },
  {
   "cell_type": "code",
   "execution_count": 48,
   "metadata": {},
   "outputs": [
    {
     "data": {
      "text/plain": [
       "(0.7366901281357155, 0.7974103494246034, 0.6629213483146067)"
      ]
     },
     "execution_count": 48,
     "metadata": {},
     "output_type": "execute_result"
    }
   ],
   "source": [
    "f1_micro_average, roc_auc, accuracy"
   ]
  },
  {
   "cell_type": "code",
   "execution_count": null,
   "metadata": {},
   "outputs": [],
   "source": []
  },
  {
   "cell_type": "code",
   "execution_count": 49,
   "metadata": {},
   "outputs": [],
   "source": [
    "# random forest classification\n",
    "\n",
    "model = RandomForestClassifier().fit(vectorized_train_documents, binarized_train_labels)\n",
    "y_pred = model.predict(vectorized_test_documents)\n",
    "y_true = binarized_test_labels\n",
    "f1_micro_average = f1_score(y_true=y_true, y_pred=y_pred, average='micro')\n",
    "roc_auc = roc_auc_score(y_true, y_pred, average = 'micro')\n",
    "accuracy = accuracy_score(y_true, y_pred)"
   ]
  },
  {
   "cell_type": "code",
   "execution_count": 50,
   "metadata": {},
   "outputs": [
    {
     "data": {
      "text/plain": [
       "(0.6760509796461861, 0.7589582462570573, 0.604929322218195)"
      ]
     },
     "execution_count": 50,
     "metadata": {},
     "output_type": "execute_result"
    }
   ],
   "source": [
    "f1_micro_average, roc_auc, accuracy"
   ]
  },
  {
   "cell_type": "code",
   "execution_count": null,
   "metadata": {},
   "outputs": [],
   "source": []
  }
 ],
 "metadata": {
  "kernelspec": {
   "display_name": "Python 3",
   "language": "python",
   "name": "python3"
  },
  "language_info": {
   "codemirror_mode": {
    "name": "ipython",
    "version": 3
   },
   "file_extension": ".py",
   "mimetype": "text/x-python",
   "name": "python",
   "nbconvert_exporter": "python",
   "pygments_lexer": "ipython3",
   "version": "3.8.3"
  }
 },
 "nbformat": 4,
 "nbformat_minor": 4
}
